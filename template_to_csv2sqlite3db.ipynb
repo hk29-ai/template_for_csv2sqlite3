{
 "cells": [
  {
   "cell_type": "code",
   "execution_count": 1,
   "id": "32662de5",
   "metadata": {},
   "outputs": [],
   "source": [
    "import os\n",
    "import sqlite3\n",
    "import csv\n",
    "import numpy as np\n",
    "\n",
    "# 読み出すcsvファイルのパス\n",
    "csv_file_path = 'iris-dataset.csv'\n",
    "\n",
    "# 書き出すsqlite3のDBファイルのパス\n",
    "db_file_path = 'iris.db'"
   ]
  },
  {
   "cell_type": "code",
   "execution_count": 2,
   "id": "42d9f3e0",
   "metadata": {},
   "outputs": [
    {
     "data": {
      "text/plain": [
       "'sepal_length,sepal_width,petal_length,petal_width,species\\n'"
      ]
     },
     "execution_count": 2,
     "metadata": {},
     "output_type": "execute_result"
    }
   ],
   "source": [
    "# csvファイルのヘッダーのみを取得\n",
    "with open(csv_file_path, 'r') as f:\n",
    "    for row in f:\n",
    "        cols = row\n",
    "        break\n",
    "cols"
   ]
  },
  {
   "cell_type": "code",
   "execution_count": 3,
   "id": "84120c94",
   "metadata": {},
   "outputs": [
    {
     "data": {
      "text/plain": [
       "'sepal_length,sepal_width,petal_length,petal_width,species'"
      ]
     },
     "execution_count": 3,
     "metadata": {},
     "output_type": "execute_result"
    }
   ],
   "source": [
    "# 改行コードを除去\n",
    "cols = cols.strip()\n",
    "cols"
   ]
  },
  {
   "cell_type": "code",
   "execution_count": 4,
   "id": "03a957c5",
   "metadata": {},
   "outputs": [
    {
     "name": "stdout",
     "output_type": "stream",
     "text": [
      "1 sepal_length\n",
      "2 sepal_width\n",
      "3 petal_length\n",
      "4 petal_width\n",
      "5 species\n"
     ]
    }
   ],
   "source": [
    "# 列名の一覧を取得する\n",
    "\n",
    "# カンマ区切り文字列を分割してリスト化\n",
    "col_list = cols.split(',')\n",
    "\n",
    "# カラム名（列名）を1行ずつ表示\n",
    "for i, col in enumerate(col_list, start = 1):\n",
    "    print(i, col)"
   ]
  },
  {
   "cell_type": "code",
   "execution_count": 5,
   "id": "91feb047",
   "metadata": {},
   "outputs": [
    {
     "data": {
      "text/plain": [
       "<sqlite3.Cursor at 0x2457c799030>"
      ]
     },
     "execution_count": 5,
     "metadata": {},
     "output_type": "execute_result"
    }
   ],
   "source": [
    "# データベースが存在しなければ新規作成する\n",
    "conn = sqlite3.connect(db_file_path)\n",
    "\n",
    "# データベースを操作するオブジェクト\n",
    "cur = conn.cursor()\n",
    "\n",
    "# データベースのテーブルを作る。\n",
    "# この時、型も指定する。これが手動で定義するメリット。\n",
    "table_name = \"CREATE TABLE IF NOT EXISTS iris \\\n",
    "(sepal_length real, \\\n",
    "sepal_width real, \\\n",
    "petal_length real, \\\n",
    "petal_width real, \\\n",
    "species test \\\n",
    ")\"\n",
    "\n",
    "cur.execute(table_name)"
   ]
  },
  {
   "cell_type": "code",
   "execution_count": 6,
   "id": "a5f48109",
   "metadata": {},
   "outputs": [],
   "source": [
    "# DBに登録するcsvデータを取得する\n",
    "row_list = []\n",
    "with open(csv_file_path, 'r') as f:\n",
    "    mydata = csv.reader(f)\n",
    "    \n",
    "    next(mydata) # 1行目のヘッダーを飛ばす\n",
    "    for row in mydata:\n",
    "        row_list.append(row)\n",
    "#row_list"
   ]
  },
  {
   "cell_type": "code",
   "execution_count": 7,
   "id": "29e2eb57",
   "metadata": {},
   "outputs": [],
   "source": [
    "# データの追加。executemany()で複数のINSERTを実行できる\n",
    "cur.executemany(\n",
    "    \"INSERT INTO iris \\\n",
    "    (sepal_length,\\\n",
    "    sepal_width,\\\n",
    "    petal_length,\\\n",
    "    petal_width,\\\n",
    "    species) \\\n",
    "    VALUES (?, ?, ?, ?, ?)\", row_list)\n",
    "\n",
    "# 更新する\n",
    "conn.commit()"
   ]
  },
  {
   "cell_type": "code",
   "execution_count": 8,
   "id": "8085acfe",
   "metadata": {},
   "outputs": [],
   "source": [
    "# データの追加。一行毎の場合\n",
    "cur.execute(\"INSERT INTO iris VALUES(5.0, 3.0, 1.5, 0.3, 'abc')\")\n",
    "\n",
    "# コミット\n",
    "conn.commit()  "
   ]
  },
  {
   "cell_type": "code",
   "execution_count": 9,
   "id": "2afceb7c",
   "metadata": {},
   "outputs": [
    {
     "name": "stdout",
     "output_type": "stream",
     "text": [
      "1 (5.1, 3.5, 1.4, 0.2, 'setosa')\n",
      "<class 'float'>\n",
      "<class 'float'>\n",
      "<class 'float'>\n",
      "<class 'float'>\n",
      "<class 'str'>\n",
      "2 (4.9, 3.0, 1.4, 0.2, 'setosa')\n",
      "3 (4.7, 3.2, 1.3, 0.2, 'setosa')\n",
      "4 (4.6, 3.1, 1.5, 0.2, 'setosa')\n",
      "5 (5.0, 3.6, 1.4, 0.2, 'setosa')\n",
      "6 (5.4, 3.9, 1.7, 0.4, 'setosa')\n",
      "7 (4.6, 3.4, 1.4, 0.3, 'setosa')\n",
      "8 (5.0, 3.4, 1.5, 0.2, 'setosa')\n",
      "9 (4.4, 2.9, 1.4, 0.2, 'setosa')\n",
      "10 (4.9, 3.1, 1.5, 0.1, 'setosa')\n",
      "11 (5.4, 3.7, 1.5, 0.2, 'setosa')\n",
      "12 (4.8, 3.4, 1.6, 0.2, 'setosa')\n",
      "13 (4.8, 3.0, 1.4, 0.1, 'setosa')\n",
      "14 (4.3, 3.0, 1.1, 0.1, 'setosa')\n",
      "15 (5.8, 4.0, 1.2, 0.2, 'setosa')\n",
      "16 (5.7, 4.4, 1.5, 0.4, 'setosa')\n",
      "17 (5.4, 3.9, 1.3, 0.4, 'setosa')\n",
      "18 (5.1, 3.5, 1.4, 0.3, 'setosa')\n",
      "19 (5.7, 3.8, 1.7, 0.3, 'setosa')\n",
      "20 (5.1, 3.8, 1.5, 0.3, 'setosa')\n",
      "21 (5.4, 3.4, 1.7, 0.2, 'setosa')\n",
      "22 (5.1, 3.7, 1.5, 0.4, 'setosa')\n",
      "23 (4.6, 3.6, 1.0, 0.2, 'setosa')\n",
      "24 (5.1, 3.3, 1.7, 0.5, 'setosa')\n",
      "25 (4.8, 3.4, 1.9, 0.2, 'setosa')\n",
      "26 (5.0, 3.0, 1.6, 0.2, 'setosa')\n",
      "27 (5.0, 3.4, 1.6, 0.4, 'setosa')\n",
      "28 (5.2, 3.5, 1.5, 0.2, 'setosa')\n",
      "29 (5.2, 3.4, 1.4, 0.2, 'setosa')\n",
      "30 (4.7, 3.2, 1.6, 0.2, 'setosa')\n",
      "31 (4.8, 3.1, 1.6, 0.2, 'setosa')\n",
      "32 (5.4, 3.4, 1.5, 0.4, 'setosa')\n",
      "33 (5.2, 4.1, 1.5, 0.1, 'setosa')\n",
      "34 (5.5, 4.2, 1.4, 0.2, 'setosa')\n",
      "35 (4.9, 3.1, 1.5, 0.1, 'setosa')\n",
      "36 (5.0, 3.2, 1.2, 0.2, 'setosa')\n",
      "37 (5.5, 3.5, 1.3, 0.2, 'setosa')\n",
      "38 (4.9, 3.1, 1.5, 0.1, 'setosa')\n",
      "39 (4.4, 3.0, 1.3, 0.2, 'setosa')\n",
      "40 (5.1, 3.4, 1.5, 0.2, 'setosa')\n",
      "41 (5.0, 3.5, 1.3, 0.3, 'setosa')\n",
      "42 (4.5, 2.3, 1.3, 0.3, 'setosa')\n",
      "43 (4.4, 3.2, 1.3, 0.2, 'setosa')\n",
      "44 (5.0, 3.5, 1.6, 0.6, 'setosa')\n",
      "45 (5.1, 3.8, 1.9, 0.4, 'setosa')\n",
      "46 (4.8, 3.0, 1.4, 0.3, 'setosa')\n",
      "47 (5.1, 3.8, 1.6, 0.2, 'setosa')\n",
      "48 (4.6, 3.2, 1.4, 0.2, 'setosa')\n",
      "49 (5.3, 3.7, 1.5, 0.2, 'setosa')\n",
      "50 (5.0, 3.3, 1.4, 0.2, 'setosa')\n",
      "51 (7.0, 3.2, 4.7, 1.4, 'versicolor')\n",
      "52 (6.4, 3.2, 4.5, 1.5, 'versicolor')\n",
      "53 (6.9, 3.1, 4.9, 1.5, 'versicolor')\n",
      "54 (5.5, 2.3, 4.0, 1.3, 'versicolor')\n",
      "55 (6.5, 2.8, 4.6, 1.5, 'versicolor')\n",
      "56 (5.7, 2.8, 4.5, 1.3, 'versicolor')\n",
      "57 (6.3, 3.3, 4.7, 1.6, 'versicolor')\n",
      "58 (4.9, 2.4, 3.3, 1.0, 'versicolor')\n",
      "59 (6.6, 2.9, 4.6, 1.3, 'versicolor')\n",
      "60 (5.2, 2.7, 3.9, 1.4, 'versicolor')\n",
      "61 (5.0, 2.0, 3.5, 1.0, 'versicolor')\n",
      "62 (5.9, 3.0, 4.2, 1.5, 'versicolor')\n",
      "63 (6.0, 2.2, 4.0, 1.0, 'versicolor')\n",
      "64 (6.1, 2.9, 4.7, 1.4, 'versicolor')\n",
      "65 (5.6, 2.9, 3.6, 1.3, 'versicolor')\n",
      "66 (6.7, 3.1, 4.4, 1.4, 'versicolor')\n",
      "67 (5.6, 3.0, 4.5, 1.5, 'versicolor')\n",
      "68 (5.8, 2.7, 4.1, 1.0, 'versicolor')\n",
      "69 (6.2, 2.2, 4.5, 1.5, 'versicolor')\n",
      "70 (5.6, 2.5, 3.9, 1.1, 'versicolor')\n",
      "71 (5.9, 3.2, 4.8, 1.8, 'versicolor')\n",
      "72 (6.1, 2.8, 4.0, 1.3, 'versicolor')\n",
      "73 (6.3, 2.5, 4.9, 1.5, 'versicolor')\n",
      "74 (6.1, 2.8, 4.7, 1.2, 'versicolor')\n",
      "75 (6.4, 2.9, 4.3, 1.3, 'versicolor')\n",
      "76 (6.6, 3.0, 4.4, 1.4, 'versicolor')\n",
      "77 (6.8, 2.8, 4.8, 1.4, 'versicolor')\n",
      "78 (6.7, 3.0, 5.0, 1.7, 'versicolor')\n",
      "79 (6.0, 2.9, 4.5, 1.5, 'versicolor')\n",
      "80 (5.7, 2.6, 3.5, 1.0, 'versicolor')\n",
      "81 (5.5, 2.4, 3.8, 1.1, 'versicolor')\n",
      "82 (5.5, 2.4, 3.7, 1.0, 'versicolor')\n",
      "83 (5.8, 2.7, 3.9, 1.2, 'versicolor')\n",
      "84 (6.0, 2.7, 5.1, 1.6, 'versicolor')\n",
      "85 (5.4, 3.0, 4.5, 1.5, 'versicolor')\n",
      "86 (6.0, 3.4, 4.5, 1.6, 'versicolor')\n",
      "87 (6.7, 3.1, 4.7, 1.5, 'versicolor')\n",
      "88 (6.3, 2.3, 4.4, 1.3, 'versicolor')\n",
      "89 (5.6, 3.0, 4.1, 1.3, 'versicolor')\n",
      "90 (5.5, 2.5, 4.0, 1.3, 'versicolor')\n",
      "91 (5.5, 2.6, 4.4, 1.2, 'versicolor')\n",
      "92 (6.1, 3.0, 4.6, 1.4, 'versicolor')\n",
      "93 (5.8, 2.6, 4.0, 1.2, 'versicolor')\n",
      "94 (5.0, 2.3, 3.3, 1.0, 'versicolor')\n",
      "95 (5.6, 2.7, 4.2, 1.3, 'versicolor')\n",
      "96 (5.7, 3.0, 4.2, 1.2, 'versicolor')\n",
      "97 (5.7, 2.9, 4.2, 1.3, 'versicolor')\n",
      "98 (6.2, 2.9, 4.3, 1.3, 'versicolor')\n",
      "99 (5.1, 2.5, 3.0, 1.1, 'versicolor')\n",
      "100 (5.7, 2.8, 4.1, 1.3, 'versicolor')\n",
      "101 (6.3, 3.3, 6.0, 2.5, 'virginica')\n",
      "102 (5.8, 2.7, 5.1, 1.9, 'virginica')\n",
      "103 (7.1, 3.0, 5.9, 2.1, 'virginica')\n",
      "104 (6.3, 2.9, 5.6, 1.8, 'virginica')\n",
      "105 (6.5, 3.0, 5.8, 2.2, 'virginica')\n",
      "106 (7.6, 3.0, 6.6, 2.1, 'virginica')\n",
      "107 (4.9, 2.5, 4.5, 1.7, 'virginica')\n",
      "108 (7.3, 2.9, 6.3, 1.8, 'virginica')\n",
      "109 (6.7, 2.5, 5.8, 1.8, 'virginica')\n",
      "110 (7.2, 3.6, 6.1, 2.5, 'virginica')\n",
      "111 (6.5, 3.2, 5.1, 2.0, 'virginica')\n",
      "112 (6.4, 2.7, 5.3, 1.9, 'virginica')\n",
      "113 (6.8, 3.0, 5.5, 2.1, 'virginica')\n",
      "114 (5.7, 2.5, 5.0, 2.0, 'virginica')\n",
      "115 (5.8, 2.8, 5.1, 2.4, 'virginica')\n",
      "116 (6.4, 3.2, 5.3, 2.3, 'virginica')\n",
      "117 (6.5, 3.0, 5.5, 1.8, 'virginica')\n",
      "118 (7.7, 3.8, 6.7, 2.2, 'virginica')\n",
      "119 (7.7, 2.6, 6.9, 2.3, 'virginica')\n",
      "120 (6.0, 2.2, 5.0, 1.5, 'virginica')\n",
      "121 (6.9, 3.2, 5.7, 2.3, 'virginica')\n",
      "122 (5.6, 2.8, 4.9, 2.0, 'virginica')\n",
      "123 (7.7, 2.8, 6.7, 2.0, 'virginica')\n",
      "124 (6.3, 2.7, 4.9, 1.8, 'virginica')\n",
      "125 (6.7, 3.3, 5.7, 2.1, 'virginica')\n",
      "126 (7.2, 3.2, 6.0, 1.8, 'virginica')\n",
      "127 (6.2, 2.8, 4.8, 1.8, 'virginica')\n",
      "128 (6.1, 3.0, 4.9, 1.8, 'virginica')\n",
      "129 (6.4, 2.8, 5.6, 2.1, 'virginica')\n",
      "130 (7.2, 3.0, 5.8, 1.6, 'virginica')\n",
      "131 (7.4, 2.8, 6.1, 1.9, 'virginica')\n",
      "132 (7.9, 3.8, 6.4, 2.0, 'virginica')\n",
      "133 (6.4, 2.8, 5.6, 2.2, 'virginica')\n",
      "134 (6.3, 2.8, 5.1, 1.5, 'virginica')\n",
      "135 (6.1, 2.6, 5.6, 1.4, 'virginica')\n",
      "136 (7.7, 3.0, 6.1, 2.3, 'virginica')\n",
      "137 (6.3, 3.4, 5.6, 2.4, 'virginica')\n",
      "138 (6.4, 3.1, 5.5, 1.8, 'virginica')\n",
      "139 (6.0, 3.0, 4.8, 1.8, 'virginica')\n",
      "140 (6.9, 3.1, 5.4, 2.1, 'virginica')\n",
      "141 (6.7, 3.1, 5.6, 2.4, 'virginica')\n",
      "142 (6.9, 3.1, 5.1, 2.3, 'virginica')\n",
      "143 (5.8, 2.7, 5.1, 1.9, 'virginica')\n",
      "144 (6.8, 3.2, 5.9, 2.3, 'virginica')\n",
      "145 (6.7, 3.3, 5.7, 2.5, 'virginica')\n",
      "146 (6.7, 3.0, 5.2, 2.3, 'virginica')\n",
      "147 (6.3, 2.5, 5.0, 1.9, 'virginica')\n",
      "148 (6.5, 3.0, 5.2, 2.0, 'virginica')\n",
      "149 (6.2, 3.4, 5.4, 2.3, 'virginica')\n",
      "150 (5.9, 3.0, 5.1, 1.8, 'virginica')\n",
      "151 (5.0, 3.0, 1.5, 0.3, 'abc')\n"
     ]
    }
   ],
   "source": [
    "# データを一行ずつ読み出す場合\n",
    "cur.execute('SELECT * FROM iris')\n",
    "\n",
    "# cur.fetchall() で全データをリストで取得する。それをループで回す\n",
    "for i, row in enumerate(cur.fetchall(), start = 1):\n",
    "    print(i, row)\n",
    "    \n",
    "    # ループの最初だけ、型も確認\n",
    "    if i == 1: \n",
    "        for val in row:\n",
    "            print(type(val))"
   ]
  }
 ],
 "metadata": {
  "kernelspec": {
   "display_name": "Python 3 (ipykernel)",
   "language": "python",
   "name": "python3"
  },
  "language_info": {
   "codemirror_mode": {
    "name": "ipython",
    "version": 3
   },
   "file_extension": ".py",
   "mimetype": "text/x-python",
   "name": "python",
   "nbconvert_exporter": "python",
   "pygments_lexer": "ipython3",
   "version": "3.8.12"
  }
 },
 "nbformat": 4,
 "nbformat_minor": 5
}
